{
 "cells": [
  {
   "cell_type": "markdown",
   "id": "0bb084af",
   "metadata": {},
   "source": [
    "<h1>My Jupyter Notebook on IBM Watson Studio</h1>"
   ]
  },
  {
   "cell_type": "markdown",
   "id": "e3b70968",
   "metadata": {},
   "source": [
    "<b>Enrique Orrantia</b>\n",
    "\n",
    "Computer Scientist"
   ]
  },
  {
   "cell_type": "markdown",
   "id": "d5f43190",
   "metadata": {},
   "source": [
    "<i>I am interested in data science because of the possible applications it has and potential for innovation. </i>"
   ]
  },
  {
   "cell_type": "markdown",
   "id": "09a83c2a",
   "metadata": {},
   "source": [
    "<h3>My code will show an example of jupyter notebooks being used outside of IBM.</h3>"
   ]
  },
  {
   "cell_type": "code",
   "execution_count": 2,
   "id": "fdb152b6",
   "metadata": {},
   "outputs": [
    {
     "data": {
      "text/plain": [
       "2"
      ]
     },
     "execution_count": 2,
     "metadata": {},
     "output_type": "execute_result"
    }
   ],
   "source": [
    "1 + 1"
   ]
  },
  {
   "cell_type": "markdown",
   "id": "37d187bd",
   "metadata": {},
   "source": [
    "<hr>\n",
    "<ul>\n",
    "    <li> Item 1 </li>\n",
    "    <li> Item 2 </li>\n",
    "    <li> Item 3 </li>\n",
    "</ul>\n",
    "<hr>\n",
    "<blockquote>\n",
    "    Please ignore the fact that this is outside the expensive and forced credit card IBM watson studio enforced application. \n",
    "</blockquote>\n",
    "<hr>\n",
    "<ol>\n",
    "    <li>item </li>\n",
    "    <li>item </li>\n",
    "</ol>"
   ]
  }
 ],
 "metadata": {
  "kernelspec": {
   "display_name": "Python 3",
   "language": "python",
   "name": "python3"
  },
  "language_info": {
   "codemirror_mode": {
    "name": "ipython",
    "version": 3
   },
   "file_extension": ".py",
   "mimetype": "text/x-python",
   "name": "python",
   "nbconvert_exporter": "python",
   "pygments_lexer": "ipython3",
   "version": "3.7.3"
  }
 },
 "nbformat": 4,
 "nbformat_minor": 5
}
